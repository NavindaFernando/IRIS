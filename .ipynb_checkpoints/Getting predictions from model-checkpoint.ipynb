{
 "cells": [
  {
   "cell_type": "markdown",
   "id": "166c5123",
   "metadata": {},
   "source": [
    "### Load the joblib"
   ]
  },
  {
   "cell_type": "code",
   "execution_count": null,
   "id": "14eeec89",
   "metadata": {},
   "outputs": [],
   "source": [
    "import joblib\n",
    "\n",
    "model = joblib.load('KNN-iris-model')"
   ]
  },
  {
   "cell_type": "markdown",
   "id": "456fe056",
   "metadata": {},
   "source": [
    "### Get predictions"
   ]
  },
  {
   "cell_type": "code",
   "execution_count": 2,
   "id": "5c572af0",
   "metadata": {},
   "outputs": [
    {
     "name": "stdout",
     "output_type": "stream",
     "text": [
      "[0.]\n"
     ]
    }
   ],
   "source": [
    "test_data=[[5.2,3.1,1.2,0.1]]\n",
    "\n",
    "predicted_target = model.predict(test_data)\n",
    "print(predicted_target)"
   ]
  },
  {
   "cell_type": "code",
   "execution_count": 3,
   "id": "5d9e3b1f",
   "metadata": {},
   "outputs": [
    {
     "name": "stdout",
     "output_type": "stream",
     "text": [
      "[0. 1.]\n"
     ]
    }
   ],
   "source": [
    "test_data=[[5.2,3.1,1.2,0.1],\n",
    "          [6.5,2.8,4.5,1.6]]\n",
    "\n",
    "predicted_target = model.predict(test_data)\n",
    "print(predicted_target)"
   ]
  },
  {
   "cell_type": "code",
   "execution_count": null,
   "id": "def59d55",
   "metadata": {},
   "outputs": [],
   "source": []
  }
 ],
 "metadata": {
  "kernelspec": {
   "display_name": "Python 3 (ipykernel)",
   "language": "python",
   "name": "python3"
  },
  "language_info": {
   "codemirror_mode": {
    "name": "ipython",
    "version": 3
   },
   "file_extension": ".py",
   "mimetype": "text/x-python",
   "name": "python",
   "nbconvert_exporter": "python",
   "pygments_lexer": "ipython3",
   "version": "3.10.9"
  }
 },
 "nbformat": 4,
 "nbformat_minor": 5
}
